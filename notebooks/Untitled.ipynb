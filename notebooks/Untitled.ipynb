{
 "cells": [
  {
   "cell_type": "markdown",
   "metadata": {},
   "source": [
    "## setup"
   ]
  },
  {
   "cell_type": "code",
   "execution_count": 15,
   "metadata": {},
   "outputs": [],
   "source": [
    "if not \"cdSet\" in globals():\n",
    "    %cd -q ..\n",
    "    cdSet = True"
   ]
  },
  {
   "cell_type": "code",
   "execution_count": 16,
   "metadata": {},
   "outputs": [
    {
     "name": "stdout",
     "output_type": "stream",
     "text": [
      "The autoreload extension is already loaded. To reload it, use:\n",
      "  %reload_ext autoreload\n"
     ]
    }
   ],
   "source": [
    "%load_ext autoreload\n",
    "%autoreload 2\n",
    "%matplotlib inline"
   ]
  },
  {
   "cell_type": "code",
   "execution_count": 65,
   "metadata": {},
   "outputs": [],
   "source": [
    "import os\n",
    "import torch\n",
    "import torch.nn as nn\n",
    "import torch.nn.functional as F\n",
    "import models.networks as networks\n",
    "# from collections import OrderedDict\n",
    "from data.cityscapes import Cityscapes\n",
    "import torchvision.transforms as transforms\n",
    "from torch.utils.data import DataLoader\n",
    "from PIL import Image\n",
    "import matplotlib.pylab as plt"
   ]
  },
  {
   "cell_type": "code",
   "execution_count": 66,
   "metadata": {},
   "outputs": [],
   "source": [
    "variational_beta = 0.0001\n",
    "num_epochs = 10\n",
    "latent_dims = 1024\n",
    "batch_size = 8\n",
    "learning_rate = 1e-5\n",
    "device = torch.device(\"cuda:0\" if torch.cuda.is_available() else \"cpu\")\n",
    "H, W = 512, 512\n",
    "\n",
    "mapping = {\n",
    "    (0, 0, 0): 0,\n",
    "    (0, 0, 0): 1,\n",
    "    (0, 0, 0): 2,\n",
    "    (0, 0, 0): 3,\n",
    "    (0, 0, 0): 4,\n",
    "    (111, 74, 0): 5,\n",
    "    (81, 0, 81): 6,\n",
    "    (128, 64, 128): 7,\n",
    "    (244, 35, 232): 8,\n",
    "    (250, 170, 160): 9,\n",
    "    (230, 150, 140): 10,\n",
    "    (70, 70, 70): 11,\n",
    "    (102, 102, 156): 12,\n",
    "    (190, 153, 153): 13,\n",
    "    (180, 165, 180): 14,\n",
    "    (150, 100, 100): 15,\n",
    "    (150, 120, 90): 16,\n",
    "    (153, 153, 153): 17,\n",
    "    (153, 153, 153): 18,\n",
    "    (250, 170, 30): 19,\n",
    "    (220, 220, 0): 20,\n",
    "    (107, 142, 35): 21,\n",
    "    (152, 251, 152): 22,\n",
    "    (70, 130, 180): 23,\n",
    "    (220, 20, 60): 24,\n",
    "    (255, 0, 0): 25,\n",
    "    (0, 0, 142): 26,\n",
    "    (0, 0, 70): 27,\n",
    "    (0, 60, 100): 28,\n",
    "    (0, 0, 90): 29,\n",
    "    (0, 0, 110): 30,\n",
    "    (0, 80, 100): 31,\n",
    "    (0, 0, 230): 32,\n",
    "    (119, 11, 32): 33,\n",
    "    (0, 0, 142): 34,\n",
    "}"
   ]
  },
  {
   "cell_type": "code",
   "execution_count": 67,
   "metadata": {},
   "outputs": [],
   "source": [
    "train_loss_avg = []\n",
    "val_loss_avg = []\n",
    "n_iter = 0\n",
    "num_batches = 0\n",
    "train_loss_avg.append(0)\n",
    "val_loss_avg.append(0)\n",
    "pixel_size = batch_size * H * W"
   ]
  },
  {
   "cell_type": "code",
   "execution_count": 68,
   "metadata": {},
   "outputs": [],
   "source": [
    "dataset_train = Cityscapes(\n",
    "    root=\"../../maskgan/data/cityscapes/\",\n",
    "    split=\"train\",\n",
    "    mode=\"fine\",\n",
    "    target_type=\"semantic\",\n",
    "    transform=None,\n",
    "    target_transform=None,\n",
    "    transforms=None,\n",
    ")"
   ]
  },
  {
   "cell_type": "code",
   "execution_count": 74,
   "metadata": {},
   "outputs": [
    {
     "name": "stdout",
     "output_type": "stream",
     "text": [
      "Sun Nov 29 11:27:46 2020       \r\n",
      "+-----------------------------------------------------------------------------+\r\n",
      "| NVIDIA-SMI 440.33.01    Driver Version: 440.33.01    CUDA Version: 10.2     |\r\n",
      "|-------------------------------+----------------------+----------------------+\r\n",
      "| GPU  Name        Persistence-M| Bus-Id        Disp.A | Volatile Uncorr. ECC |\r\n",
      "| Fan  Temp  Perf  Pwr:Usage/Cap|         Memory-Usage | GPU-Util  Compute M. |\r\n",
      "|===============================+======================+======================|\r\n",
      "|   0  Tesla V100-SXM2...  On   | 00000000:18:00.0 Off |                    0 |\r\n",
      "| N/A   38C    P0    68W / 300W |  27750MiB / 32510MiB |    100%      Default |\r\n",
      "+-------------------------------+----------------------+----------------------+\r\n",
      "|   1  Tesla V100-SXM2...  On   | 00000000:3B:00.0 Off |                    0 |\r\n",
      "| N/A   34C    P0    78W / 300W |  24588MiB / 32510MiB |    100%      Default |\r\n",
      "+-------------------------------+----------------------+----------------------+\r\n",
      "|   2  Tesla V100-SXM2...  On   | 00000000:86:00.0 Off |                    0 |\r\n",
      "| N/A   35C    P0    78W / 300W |  24588MiB / 32510MiB |    100%      Default |\r\n",
      "+-------------------------------+----------------------+----------------------+\r\n",
      "|   3  Tesla V100-SXM2...  On   | 00000000:AF:00.0 Off |                    0 |\r\n",
      "| N/A   38C    P0    80W / 300W |  24588MiB / 32510MiB |    100%      Default |\r\n",
      "+-------------------------------+----------------------+----------------------+\r\n",
      "                                                                               \r\n",
      "+-----------------------------------------------------------------------------+\r\n",
      "| Processes:                                                       GPU Memory |\r\n",
      "|  GPU       PID   Type   Process name                             Usage      |\r\n",
      "|=============================================================================|\r\n",
      "|    0     45990      C   ...6007383/shimash/stylegan-3.6/bin/python  1087MiB |\r\n",
      "|    0     45995      C   ...6007383/shimash/stylegan-3.6/bin/python  1087MiB |\r\n",
      "|    0     46005      C   ...6007383/shimash/stylegan-3.6/bin/python  1089MiB |\r\n",
      "|    0    114913      C   python                                     22755MiB |\r\n",
      "|    0    209188      C   ...6007383/shimash/stylegan-3.6/bin/python  1719MiB |\r\n",
      "|    1     45990      C   ...6007383/shimash/stylegan-3.6/bin/python 24551MiB |\r\n",
      "|    2     45995      C   ...6007383/shimash/stylegan-3.6/bin/python 24551MiB |\r\n",
      "|    3     46005      C   ...6007383/shimash/stylegan-3.6/bin/python 24551MiB |\r\n",
      "+-----------------------------------------------------------------------------+\r\n"
     ]
    }
   ],
   "source": [
    "!nvidia-smi"
   ]
  },
  {
   "cell_type": "code",
   "execution_count": null,
   "metadata": {},
   "outputs": [],
   "source": [
    "!kill -9 209188"
   ]
  },
  {
   "cell_type": "code",
   "execution_count": null,
   "metadata": {},
   "outputs": [],
   "source": []
  }
 ],
 "metadata": {
  "kernelspec": {
   "display_name": "Python 3",
   "language": "python",
   "name": "python3"
  },
  "language_info": {
   "codemirror_mode": {
    "name": "ipython",
    "version": 3
   },
   "file_extension": ".py",
   "mimetype": "text/x-python",
   "name": "python",
   "nbconvert_exporter": "python",
   "pygments_lexer": "ipython3",
   "version": "3.6.3"
  }
 },
 "nbformat": 4,
 "nbformat_minor": 4
}
