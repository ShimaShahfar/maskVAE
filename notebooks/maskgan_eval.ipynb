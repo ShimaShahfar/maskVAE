{
 "cells": [
  {
   "cell_type": "code",
   "execution_count": 1,
   "metadata": {},
   "outputs": [],
   "source": [
    "if not \"cdSet\" in globals():\n",
    "    %cd -q ..\n",
    "    cdSet = True"
   ]
  },
  {
   "cell_type": "code",
   "execution_count": 2,
   "metadata": {},
   "outputs": [],
   "source": [
    "%load_ext autoreload\n",
    "%autoreload 2\n",
    "%matplotlib inline"
   ]
  },
  {
   "cell_type": "code",
   "execution_count": 3,
   "metadata": {},
   "outputs": [
    {
     "name": "stdout",
     "output_type": "stream",
     "text": [
      "?\n"
     ]
    }
   ],
   "source": [
    "from light import LitMaskNet\n",
    "\n",
    "import pytorch_lightning as pl\n",
    "import pytorch_lightning.metrics.functional as plF"
   ]
  },
  {
   "cell_type": "code",
   "execution_count": 4,
   "metadata": {},
   "outputs": [
    {
     "name": "stderr",
     "output_type": "stream",
     "text": [
      "usage: ipykernel_launcher.py [-h] [--name NAME] [--gpu_ids GPU_IDS]\n",
      "                             [--checkpoints_dir CHECKPOINTS_DIR]\n",
      "                             [--model MODEL] [--norm NORM] [--use_dropout]\n",
      "                             [--data_type {8,16,32}] [--verbose] [--fp16]\n",
      "                             [--local_rank LOCAL_RANK] [--batchSize BATCHSIZE]\n",
      "                             [--loadSize LOADSIZE] [--fineSize FINESIZE]\n",
      "                             [--label_nc LABEL_NC] [--input_nc INPUT_NC]\n",
      "                             [--output_nc OUTPUT_NC] [--dataroot DATAROOT]\n",
      "                             [--vae_path VAE_PATH]\n",
      "                             [--resize_or_crop RESIZE_OR_CROP]\n",
      "                             [--serial_batches] [--no_flip]\n",
      "                             [--nThreads NTHREADS]\n",
      "                             [--max_dataset_size MAX_DATASET_SIZE]\n",
      "                             [--no_instance] [--load_features]\n",
      "                             [--display_winsize DISPLAY_WINSIZE] [--tf_log]\n",
      "                             [--netG NETG] [--ngf NGF]\n",
      "                             [--n_downsample_global N_DOWNSAMPLE_GLOBAL]\n",
      "                             [--n_blocks_global N_BLOCKS_GLOBAL]\n",
      "                             [--n_blocks_local N_BLOCKS_LOCAL]\n",
      "                             [--n_local_enhancers N_LOCAL_ENHANCERS]\n",
      "                             [--niter_fix_global NITER_FIX_GLOBAL]\n",
      "                             [--display_freq DISPLAY_FREQ]\n",
      "                             [--print_freq PRINT_FREQ]\n",
      "                             [--save_latest_freq SAVE_LATEST_FREQ]\n",
      "                             [--save_epoch_freq SAVE_EPOCH_FREQ] [--no_html]\n",
      "                             [--debug] [--continue_train]\n",
      "                             [--load_pretrain LOAD_PRETRAIN]\n",
      "                             [--which_epoch WHICH_EPOCH] [--phase PHASE]\n",
      "                             [--niter NITER] [--niter_decay NITER_DECAY]\n",
      "                             [--beta1 BETA1] [--lr LR]\n",
      "                             [--batch_size BATCH_SIZE]\n",
      "                             [--weight_decay WEIGHT_DECAY] [--num_D NUM_D]\n",
      "                             [--n_layers_D N_LAYERS_D] [--ndf NDF]\n",
      "                             [--lambda_feat LAMBDA_FEAT] [--ganFeat_loss]\n",
      "                             [--vgg_loss] [--lsgan] [--pool_size POOL_SIZE]\n",
      "ipykernel_launcher.py: error: unrecognized arguments: -f /home/shimash/.local/share/jupyter/runtime/kernel-7402e1a1-4943-49be-b4f8-a3d7e41a24ca.json\n"
     ]
    },
    {
     "ename": "SystemExit",
     "evalue": "2",
     "output_type": "error",
     "traceback": [
      "An exception has occurred, use %tb to see the full traceback.\n",
      "\u001b[0;31mSystemExit\u001b[0m\u001b[0;31m:\u001b[0m 2\n"
     ]
    },
    {
     "name": "stderr",
     "output_type": "stream",
     "text": [
      "/project/6007383/shimash/stylegan-3.6/lib/python3.6/site-packages/IPython/core/interactiveshell.py:3351: UserWarning: To exit: use 'exit', 'quit', or Ctrl-D.\n",
      "  warn(\"To exit: use 'exit', 'quit', or Ctrl-D.\", stacklevel=1)\n"
     ]
    }
   ],
   "source": [
    "PATH = './lightning_logs/version_54971827/checkpoints/epoch=57-step=43151.ckpt'\n",
    "\n",
    "model = LitMaskNet.load_from_checkpoint(PATH)\n",
    "trainer = Trainer()\n",
    "trainer.test(model)"
   ]
  },
  {
   "cell_type": "code",
   "execution_count": null,
   "metadata": {},
   "outputs": [],
   "source": []
  }
 ],
 "metadata": {
  "kernelspec": {
   "display_name": "Python 3",
   "language": "python",
   "name": "python3"
  }
 },
 "nbformat": 4,
 "nbformat_minor": 4
}
