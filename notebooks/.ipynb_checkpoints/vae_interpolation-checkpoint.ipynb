{
 "cells": [
  {
   "cell_type": "markdown",
   "metadata": {},
   "source": [
    "## setup"
   ]
  },
  {
   "cell_type": "code",
   "execution_count": 1,
   "metadata": {},
   "outputs": [],
   "source": [
    "if not \"cdSet\" in globals():\n",
    "    %cd -q ..\n",
    "    cdSet = True"
   ]
  },
  {
   "cell_type": "code",
   "execution_count": 2,
   "metadata": {},
   "outputs": [],
   "source": [
    "%load_ext autoreload\n",
    "%autoreload 2\n",
    "%matplotlib inline"
   ]
  },
  {
   "cell_type": "code",
   "execution_count": 70,
   "metadata": {},
   "outputs": [],
   "source": [
    "import torch\n",
    "import torch.nn as nn\n",
    "import torch.nn.functional as F\n",
    "from torch.utils.data import DataLoader\n",
    "import torchvision.transforms as transforms\n",
    "\n",
    "import os\n",
    "from PIL import Image\n",
    "import matplotlib.pylab as plt\n",
    "\n",
    "from data.cityscapes import Cityscapes\n",
    "import models.networks as networks"
   ]
  },
  {
   "cell_type": "code",
   "execution_count": 71,
   "metadata": {},
   "outputs": [
    {
     "data": {
      "text/plain": [
       "device(type='cuda', index=0)"
      ]
     },
     "execution_count": 71,
     "metadata": {},
     "output_type": "execute_result"
    }
   ],
   "source": [
    "batch_size = 8\n",
    "device = torch.device(\"cuda:0\" if torch.cuda.is_available() else \"cpu\")\n",
    "device"
   ]
  },
  {
   "cell_type": "markdown",
   "metadata": {},
   "source": [
    "## data"
   ]
  },
  {
   "cell_type": "code",
   "execution_count": 72,
   "metadata": {},
   "outputs": [],
   "source": [
    "transforms = transforms.Compose(\n",
    "            [\n",
    "                transforms.Resize((512, 512),interpolation=Image.NEAREST),\n",
    "                transforms.RandomHorizontalFlip(),\n",
    "                transforms.ToTensor(),\n",
    "            ]\n",
    "        )"
   ]
  },
  {
   "cell_type": "code",
   "execution_count": 73,
   "metadata": {},
   "outputs": [],
   "source": [
    "dataset_train = Cityscapes(\n",
    "    root=\"../../maskgan/data/cityscapes/\",\n",
    "    split=\"train\",\n",
    "    mode=\"fine\",\n",
    "    target_type=\"semantic\",\n",
    "    transform=None,\n",
    "    target_transform=None,\n",
    "    transforms=transforms,\n",
    ")\n",
    "\n",
    "\n",
    "dataset_val = Cityscapes(\n",
    "    root=\"../../maskgan/data/cityscapes/\",\n",
    "    split=\"val\",\n",
    "    mode=\"fine\",\n",
    "    target_type=\"semantic\",\n",
    "    transform=None,\n",
    "    target_transform=None,\n",
    "    transforms=transforms,\n",
    ")\n",
    "\n",
    "dataloader_train = DataLoader(dataset_train, batch_size=batch_size, shuffle=True, num_workers=2)\n",
    "dataloader_val = DataLoader(dataset_val, batch_size=batch_size, shuffle=True, num_workers=2)"
   ]
  },
  {
   "cell_type": "code",
   "execution_count": 75,
   "metadata": {},
   "outputs": [],
   "source": [
    "# dataset_train[0][2]"
   ]
  },
  {
   "cell_type": "markdown",
   "metadata": {},
   "source": [
    "## load pre-trained model"
   ]
  },
  {
   "cell_type": "code",
   "execution_count": 76,
   "metadata": {},
   "outputs": [],
   "source": [
    "netVAE = networks.define_VAE(input_nc=34)\n",
    "netVAE = netVAE.to(device)"
   ]
  },
  {
   "cell_type": "code",
   "execution_count": 77,
   "metadata": {},
   "outputs": [
    {
     "data": {
      "text/plain": [
       "<All keys matched successfully>"
      ]
     },
     "execution_count": 77,
     "metadata": {},
     "output_type": "execute_result"
    }
   ],
   "source": [
    "PATH = \"checkpoint_vae/000100.pt\"\n",
    "checkpoint = torch.load(PATH)\n",
    "netVAE.load_state_dict(checkpoint['vae'])"
   ]
  },
  {
   "cell_type": "markdown",
   "metadata": {},
   "source": [
    "## interpolation"
   ]
  },
  {
   "cell_type": "code",
   "execution_count": 78,
   "metadata": {},
   "outputs": [],
   "source": [
    "inter_lambda = 2.5 #from paper"
   ]
  },
  {
   "cell_type": "code",
   "execution_count": 79,
   "metadata": {},
   "outputs": [],
   "source": [
    "def vae_interpolation(label_t, label_ref):\n",
    "    z_t, latent_mu_t, latent_logvar_t = netVAE.get_latent_var(label_t)\n",
    "    z_ref, latent_mu_ref, latent_logvar_ref = netVAE.get_latent_var(label_ref)\n",
    "\n",
    "    z_inter = z_t + (z_ref - z_t) / inter_lambda\n",
    "    z_outer = z_t - (z_ref - z_t) / inter_lambda\n",
    "\n",
    "    inter_label_1 = netVAE.decode(z_inter)\n",
    "    inter_label_2 = netVAE.decode(z_outer)\n",
    "\n",
    "    return inter_label_1, inter_label_2"
   ]
  },
  {
   "cell_type": "code",
   "execution_count": null,
   "metadata": {},
   "outputs": [],
   "source": []
  },
  {
   "cell_type": "code",
   "execution_count": 80,
   "metadata": {},
   "outputs": [
    {
     "name": "stdout",
     "output_type": "stream",
     "text": [
      "random_idx:  1220 index:  2143\n",
      "random_idx:  2303 index:  1957\n",
      "not none!\n",
      "random_idx:  2442 index:  2421\n",
      "not none!\n",
      "random_idx:  2406 index:  535\n",
      "not none!\n",
      "random_idx:  191 index:  1584\n",
      "not none!\n",
      "random_idx:  1196 index:  875\n",
      "not none!\n",
      "random_idx:  2431 index:  2304\n",
      "not none!\n",
      "random_idx:  2432 index:  1851\n",
      "not none!\n",
      "random_idx:  1384 index:  411\n",
      "not none!\n",
      "random_idx:  2057 index:  2275\n",
      "not none!\n",
      "random_idx:  1048 index:  1941\n",
      "not none!\n",
      "random_idx:  2354 index:  1924\n",
      "not none!\n",
      "random_idx:  1613 index:  2506\n",
      "not none!\n",
      "random_idx:  1764 index:  2115\n",
      "not none!\n",
      "random_idx:  1712 index:  646\n",
      "not none!\n",
      "random_idx:  313 index:  813\n",
      "not none!\n",
      "not none!\n",
      "random_idx:  1574 index:  1204\n",
      "not none!\n",
      "random_idx:  2771 index:  95\n",
      "not none!\n",
      "random_idx:  951 index:  419\n",
      "not none!\n",
      "random_idx:  608 index:  624\n",
      "not none!\n",
      "random_idx:  2786 index:  312\n",
      "not none!\n",
      "random_idx:  2170 index:  1553\n",
      "not none!\n",
      "random_idx:  988 index:  1196\n",
      "not none!\n",
      "random_idx:  924 index:  1780\n",
      "not none!\n"
     ]
    },
    {
     "ename": "AttributeError",
     "evalue": "'list' object has no attribute 'to'",
     "output_type": "error",
     "traceback": [
      "\u001b[0;31m---------------------------------------------------------------------------\u001b[0m",
      "\u001b[0;31mAttributeError\u001b[0m                            Traceback (most recent call last)",
      "\u001b[0;32m<ipython-input-80-d6bf6ad3fff7>\u001b[0m in \u001b[0;36m<module>\u001b[0;34m\u001b[0m\n\u001b[1;32m      1\u001b[0m \u001b[0;32mfor\u001b[0m \u001b[0mbatch\u001b[0m \u001b[0;32min\u001b[0m \u001b[0mdataloader_train\u001b[0m\u001b[0;34m:\u001b[0m\u001b[0;34m\u001b[0m\u001b[0m\n\u001b[0;32m----> 2\u001b[0;31m     \u001b[0mbatch\u001b[0m \u001b[0;34m=\u001b[0m \u001b[0mbatch\u001b[0m\u001b[0;34m.\u001b[0m\u001b[0mto\u001b[0m\u001b[0;34m(\u001b[0m\u001b[0mdevice\u001b[0m\u001b[0;34m)\u001b[0m\u001b[0;34m\u001b[0m\u001b[0m\n\u001b[0m\u001b[1;32m      3\u001b[0m     \u001b[0mimage_t\u001b[0m\u001b[0;34m,\u001b[0m \u001b[0mlabel_t\u001b[0m\u001b[0;34m,\u001b[0m \u001b[0mimage_ref\u001b[0m\u001b[0;34m,\u001b[0m \u001b[0mlabel_ref\u001b[0m \u001b[0;34m=\u001b[0m \u001b[0mbatch\u001b[0m\u001b[0;34m\u001b[0m\u001b[0m\n\u001b[1;32m      4\u001b[0m     \u001b[0mlabel_t_onehot\u001b[0m \u001b[0;34m=\u001b[0m \u001b[0mF\u001b[0m\u001b[0;34m.\u001b[0m\u001b[0mone_hot\u001b[0m\u001b[0;34m(\u001b[0m\u001b[0mlabel_t\u001b[0m\u001b[0;34m.\u001b[0m\u001b[0mlong\u001b[0m\u001b[0;34m(\u001b[0m\u001b[0;34m)\u001b[0m\u001b[0;34m,\u001b[0m \u001b[0mnum_classes\u001b[0m\u001b[0;34m=\u001b[0m\u001b[0;36m34\u001b[0m\u001b[0;34m)\u001b[0m\u001b[0;34m\u001b[0m\u001b[0m\n\u001b[1;32m      5\u001b[0m     \u001b[0mlabel_t_onehot\u001b[0m \u001b[0;34m=\u001b[0m \u001b[0mlabel_t_onehot\u001b[0m\u001b[0;34m.\u001b[0m\u001b[0mpermute\u001b[0m\u001b[0;34m(\u001b[0m\u001b[0;36m0\u001b[0m\u001b[0;34m,\u001b[0m \u001b[0;36m3\u001b[0m\u001b[0;34m,\u001b[0m \u001b[0;36m1\u001b[0m\u001b[0;34m,\u001b[0m \u001b[0;36m2\u001b[0m\u001b[0;34m)\u001b[0m\u001b[0;34m.\u001b[0m\u001b[0mfloat\u001b[0m\u001b[0;34m(\u001b[0m\u001b[0;34m)\u001b[0m\u001b[0;34m.\u001b[0m\u001b[0mcontiguous\u001b[0m\u001b[0;34m(\u001b[0m\u001b[0;34m)\u001b[0m\u001b[0;34m\u001b[0m\u001b[0m\n",
      "\u001b[0;31mAttributeError\u001b[0m: 'list' object has no attribute 'to'"
     ]
    }
   ],
   "source": [
    "for batch in dataloader_train:\n",
    "    image_t, label_t, image_ref, label_ref = batch\n",
    "    image_t, label_t, image_ref, label_ref = (\n",
    "        image_t.to(device),\n",
    "        label_t.to(device),\n",
    "        image_ref.to(device),\n",
    "        label_ref.to(device),\n",
    "    )\n",
    "    label_t_onehot = F.one_hot(label_t.long(), num_classes=34)\n",
    "    label_t_onehot = label_t_onehot.permute(0, 3, 1, 2).float().contiguous()\n",
    "    label_ref_onehot = F.one_hot(label_ref.long(), num_classes=34)\n",
    "    label_ref_onehot = label_ref_onehot.permute(0, 3, 1, 2).float().contiguous()\n",
    "\n",
    "    inter_label_1, inter_label_2 = vae_interpolation(label_t_onehot, label_ref_onehot)\n",
    "    print(inter_label_1, inter_label_2)\n",
    "    break"
   ]
  },
  {
   "cell_type": "code",
   "execution_count": null,
   "metadata": {},
   "outputs": [],
   "source": []
  }
 ],
 "metadata": {
  "kernelspec": {
   "display_name": "Python 3",
   "language": "python",
   "name": "python3"
  },
  "language_info": {
   "codemirror_mode": {
    "name": "ipython",
    "version": 3
   },
   "file_extension": ".py",
   "mimetype": "text/x-python",
   "name": "python",
   "nbconvert_exporter": "python",
   "pygments_lexer": "ipython3",
   "version": "3.6.3"
  },
  "toc": {
   "base_numbering": 1,
   "nav_menu": {},
   "number_sections": true,
   "sideBar": true,
   "skip_h1_title": false,
   "title_cell": "Table of Contents",
   "title_sidebar": "Contents",
   "toc_cell": false,
   "toc_position": {},
   "toc_section_display": true,
   "toc_window_display": true
  }
 },
 "nbformat": 4,
 "nbformat_minor": 4
}
